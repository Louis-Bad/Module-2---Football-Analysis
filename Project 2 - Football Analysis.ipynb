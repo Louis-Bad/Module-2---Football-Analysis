{
 "cells": [
  {
   "cell_type": "markdown",
   "metadata": {},
   "source": [
    "# Project 2 - Football Analysis\n",
    "##### Author: Louis Bademosi"
   ]
  },
  {
   "cell_type": "markdown",
   "metadata": {},
   "source": [
    "##### Note to self:\n",
    "- Start with the plan\n",
    "- Remember to use auto pep8 for clean idiomatic code\n",
    "- Build at least 2 classes to help do get each portion of the project done. Cleaning, EDA, Extracting the data etc.\n",
    "- Some of the language is german so I may need to translate the columns eg. kader means squad\n",
    "---"
   ]
  },
  {
   "cell_type": "markdown",
   "metadata": {},
   "source": [
    " ### Questions to Answer \n",
    " ##### What the the MongoDB instance has to contain: \n",
    " \n",
    "* The name of the team\n",
    "* The total number of goals scored by the team during the 2011 season\n",
    "* The total number of wins the team earned during the 2011 season\n",
    "* A histogram visualization of the team's wins and losses for the 2011 season (store the visualization directly by assigning it to a variable)\n",
    "* The team's win percentage on days where it was raining during games in the 2011 season. "
   ]
  },
  {
   "cell_type": "markdown",
   "metadata": {},
   "source": [
    "## Project Plan\n",
    "- very quick search for any cleaning required isnull() etc.\n",
    "- query the 2011 data only\n",
    "- create 1 datafame containing [Team| Goals Scored| Games Won| Games Lost]\n",
    "- create a histogram plot for each teams wins/loses\n",
    "\n",
    "#### The last question is the real work:\n",
    "- gain access to the weather in berlin for the dates of the matches\n",
    "- create a datafame containing [Match id| Date| Weather| Home Team| Away Team]\n",
    "- Find out for each team their win/loss outcome on the day it rained"
   ]
  },
  {
   "cell_type": "code",
   "execution_count": null,
   "metadata": {},
   "outputs": [],
   "source": []
  },
  {
   "cell_type": "code",
   "execution_count": null,
   "metadata": {},
   "outputs": [],
   "source": []
  },
  {
   "cell_type": "code",
   "execution_count": null,
   "metadata": {},
   "outputs": [],
   "source": []
  },
  {
   "cell_type": "code",
   "execution_count": null,
   "metadata": {},
   "outputs": [],
   "source": []
  }
 ],
 "metadata": {
  "kernelspec": {
   "display_name": "Python 3",
   "language": "python",
   "name": "python3"
  },
  "language_info": {
   "codemirror_mode": {
    "name": "ipython",
    "version": 3
   },
   "file_extension": ".py",
   "mimetype": "text/x-python",
   "name": "python",
   "nbconvert_exporter": "python",
   "pygments_lexer": "ipython3",
   "version": "3.6.6"
  }
 },
 "nbformat": 4,
 "nbformat_minor": 2
}
