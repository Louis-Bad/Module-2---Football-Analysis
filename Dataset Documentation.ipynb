{
 "cells": [
  {
   "cell_type": "markdown",
   "metadata": {},
   "source": [
    "### The data comes as an Sqlite file containing the following tables and fields:\n"
   ]
  },
  {
   "cell_type": "markdown",
   "metadata": {},
   "source": [
    "## Table: Matches\n",
    "\n",
    "Match_ID (int): unique ID per match\n",
    "\n",
    "Div (str): identifies the division the match was played in (D1 = Bundesliga, D2 = Bundesliga 2, E0 = English Premier League)\n",
    "\n",
    "Season (int): Season the match took place in (usually covering the period of August till May of the following year)\n",
    "\n",
    "Date (str): Date of the match\n",
    "\n",
    "HomeTeam (str): Name of the home team\n",
    "\n",
    "AwayTeam (str): Name of the away team\n",
    "\n",
    "FTHG (int) (Full Time Home Goals): Number of goals scored by the home team\n",
    "\n",
    "FTAG (int) (Full Time Away Goals): Number of goals scored by the away team\n",
    "\n",
    "FTR (str) (Full Time Result): 3-way result of the match (H = Home Win, D = Draw, A = Away Win)"
   ]
  },
  {
   "cell_type": "markdown",
   "metadata": {},
   "source": [
    "## Table: Teams\n",
    "\n",
    "Season (str): Football season for which the data is valid\n",
    "\n",
    "TeamName (str): Name of the team the data concerns\n",
    "\n",
    "KaderHome (str): Number of Players in the squad\n",
    "\n",
    "AvgAgeHome (str): Average age of players\n",
    "\n",
    "ForeignPlayersHome (str): Number of foreign players (non-German, non-English respectively) playing for the team\n",
    "\n",
    "OverallMarketValueHome (str): Overall market value of the team pre-season in EUR (based on data from transfermarkt.de)\n",
    "\n",
    "AvgMarketValueHome (str): Average market value (per player) of the team pre-season in EUR (based on data from transfermarkt.de)\n",
    "\n",
    "StadiumCapacity (str): Maximum stadium capacity of the team's home stadium"
   ]
  },
  {
   "cell_type": "markdown",
   "metadata": {},
   "source": [
    "## Table: Teams_in_Matches\n",
    "\n",
    "Match_ID (int): Unique match ID\n",
    "\n",
    "Unique_Team_ID (int): Unique team ID (This table is used to easily retrieve each match a given team has played in)\n",
    "\n",
    "##### Based on these tables I created a couple of views which I used as input for my machine learning models:\n",
    "\n",
    "View: FlatView\n",
    "\n",
    "Combination of all matches with the respective additional data from Teams table for both home and away team.\n",
    "\n",
    "View: FlatView_Advanced\n",
    "\n",
    "##### Same as Flatview but also includes Unique_Team_ID and Unique_Team in order to easily retrieve all matches played by a team in chronological order.\n",
    "\n",
    "View: FlatView_Chrono_TeamOrder_Reduced\n",
    "\n",
    "##### Similar to Flatview_Advanced, however missing the additional attributes from team in order to have a longer history including years 1993 - 2004. Especially interesting if one is only interested in analyzing winning/loosing streaks."
   ]
  },
  {
   "cell_type": "markdown",
   "metadata": {},
   "source": [
    "## Table: Unique Teams\n",
    "\n",
    "TeamName (str): Name of a team\n",
    "\n",
    "Unique_Team_ID (int): Unique identifier for each team"
   ]
  },
  {
   "cell_type": "code",
   "execution_count": null,
   "metadata": {},
   "outputs": [],
   "source": []
  }
 ],
 "metadata": {
  "kernelspec": {
   "display_name": "Python 3",
   "language": "python",
   "name": "python3"
  },
  "language_info": {
   "codemirror_mode": {
    "name": "ipython",
    "version": 3
   },
   "file_extension": ".py",
   "mimetype": "text/x-python",
   "name": "python",
   "nbconvert_exporter": "python",
   "pygments_lexer": "ipython3",
   "version": "3.6.6"
  }
 },
 "nbformat": 4,
 "nbformat_minor": 2
}
